{
  "nbformat": 4,
  "nbformat_minor": 0,
  "metadata": {
    "colab": {
      "provenance": []
    },
    "kernelspec": {
      "name": "python3",
      "display_name": "Python 3"
    },
    "language_info": {
      "name": "python"
    }
  },
  "cells": [
    {
      "cell_type": "code",
      "source": [
        "import numpy as np\n",
        "from copy import deepcopy"
      ],
      "metadata": {
        "id": "IBW9SgEIGT1g"
      },
      "execution_count": null,
      "outputs": []
    },
    {
      "cell_type": "code",
      "source": [
        "def sphere(x):\n",
        "  total = 0\n",
        "  for i in x:\n",
        "    total += i*i\n",
        "  return total"
      ],
      "metadata": {
        "id": "M9qEqUPxI6WQ"
      },
      "execution_count": null,
      "outputs": []
    },
    {
      "cell_type": "code",
      "source": [
        "class problem:\n",
        "  def __init__(self):\n",
        "    self.number_of_genes = 8\n",
        "    self.min_value = -10\n",
        "    self.max_value = 10\n",
        "    self.cost_fuction = sphere\n",
        "    self.acceptable_cost = 0.000001\n",
        "    pass\n"
      ],
      "metadata": {
        "id": "IqjYbjuRFtMP"
      },
      "execution_count": null,
      "outputs": []
    },
    {
      "cell_type": "code",
      "execution_count": null,
      "metadata": {
        "id": "9fRWHKvQEcSl"
      },
      "outputs": [],
      "source": [
        "class individual:\n",
        "  def __init__(self, problem):\n",
        "    self.chromosome = np.random.uniform(problem.min_value, problem.max_value, problem.number_of_genes)\n",
        "    self.cost = problem.cost_fuction(self.chromosome)\n",
        "\n",
        "  def mutate(self, rate_of_gene_mutation, range_of_gene_mutation):\n",
        "    for index in range(len(self.chromosome)):\n",
        "      if np.random.uniform() < rate_of_gene_mutation:\n",
        "        self.chromosome[index] += np.random.randn()*range_of_gene_mutation\n",
        "\n",
        "  def crossover(self, parent2, explore_crossover):\n",
        "    alpha = np.random.uniform(-explore_crossover, 1+explore_crossover)\n",
        "    child1 = deepcopy(self)\n",
        "    child2 = deepcopy(parent2)\n",
        "    child1.chromosome = alpha*self.chromosome + (1-alpha)*parent2.chromosome\n",
        "    child2.chromosome = alpha*parent2.chromosome + (1-alpha)*self.chromosome\n",
        "    return child1, child2"
      ]
    },
    {
      "cell_type": "code",
      "source": [
        "class parameters:\n",
        "  def __init__(self):\n",
        "    self.population_size = 1000\n",
        "    self.birth_rate_per_generation = 1\n",
        "    self.explore_crossover = 0.2\n",
        "    self.rate_of_gene_mutation = 0.2\n",
        "    self.range_of_gene_mutation = 0.5\n",
        "    self.max_number_of_generations = 1000"
      ],
      "metadata": {
        "id": "w9G4XArvTlBr"
      },
      "execution_count": null,
      "outputs": []
    },
    {
      "cell_type": "code",
      "source": [
        "def choose_parents(population):\n",
        "  index1 = np.random.randint(0, len(population))\n",
        "  index2 = np.random.randint(0, len(population))\n",
        "  parent1 = population[index1]\n",
        "  parent2 = population[index2]\n",
        "  if index1 == index2:\n",
        "    return choose_parents(population)\n",
        "  return index1, index2"
      ],
      "metadata": {
        "id": "QANKW7BpymDD"
      },
      "execution_count": null,
      "outputs": []
    },
    {
      "cell_type": "code",
      "source": [
        "def run_genetic(prob, parameters):\n",
        "  # Read variables\n",
        "  population_size = parameters.population_size\n",
        "  explore_crossover = parameters.explore_crossover\n",
        "  rate_of_gene_mutation = parameters.rate_of_gene_mutation\n",
        "  range_of_gene_mutation = parameters.range_of_gene_mutation\n",
        "  cost_fuction = prob.cost_fuction\n",
        "  acceptable_cost = prob.acceptable_cost\n",
        "  number_of_children_per_generation = population_size * parameters.birth_rate_per_generation\n",
        "\n",
        "  # Create population\n",
        "  population = []\n",
        "  best_solution = individual(prob)\n",
        "  best_solution.cost = np.infty\n",
        "  for i in range(population_size):\n",
        "    new_individual = individual(prob)\n",
        "    if new_individual.cost < best_solution.cost:\n",
        "      best_solution = deepcopy(new_individual)\n",
        "    population.append(new_individual)\n",
        "\n",
        "\n",
        "  # Start Loop\n",
        "  for i in range(parameters.max_number_of_generations):\n",
        "    # Create population of children\n",
        "    children = []\n",
        "    while (len(children) < number_of_children_per_generation):\n",
        "        # Choose parents\n",
        "      parent1_index, parent2_index = choose_parents(population)\n",
        "      parent1 = population[parent1_index]\n",
        "      parent2 = population[parent2_index]\n",
        "      # Create children\n",
        "      child1, child2 = parent1.crossover(parent2, explore_crossover)\n",
        "      child1.mutate(rate_of_gene_mutation, range_of_gene_mutation)\n",
        "      child2.mutate(rate_of_gene_mutation, range_of_gene_mutation)\n",
        "      child1.cost = cost_fuction(child1.chromosome)\n",
        "      child2.cost = cost_fuction(child2.chromosome)\n",
        "      children.append(child1)\n",
        "      children.append(child2)\n",
        "\n",
        "    population += children\n",
        "\n",
        "    # Sort population\n",
        "    population.sort(key=lambda x: x.cost)\n",
        "\n",
        "    # Cull population\n",
        "    population = population[:population_size]\n",
        "\n",
        "    # Check solution\n",
        "    if population[0].cost < best_solution.cost:\n",
        "      best_solution = deepcopy(population[0])\n",
        "      print(best_solution.cost)\n",
        "    if best_solution.cost < prob.acceptable_cost:\n",
        "      break\n",
        "\n",
        "  return population, best_solution, best_solution.cost\n"
      ],
      "metadata": {
        "id": "qyloHCTuTXRL"
      },
      "execution_count": null,
      "outputs": []
    },
    {
      "cell_type": "code",
      "source": [
        "prob = problem()\n",
        "params = parameters()"
      ],
      "metadata": {
        "id": "RZeavOAuHjP4"
      },
      "execution_count": null,
      "outputs": []
    },
    {
      "cell_type": "code",
      "source": [
        "pop, best, best_cost = run_genetic(prob, params)"
      ],
      "metadata": {
        "colab": {
          "base_uri": "https://localhost:8080/"
        },
        "id": "jNhHRyeHJZ0o",
        "outputId": "49476507-1ef8-43fc-824f-7114f9349a62"
      },
      "execution_count": null,
      "outputs": [
        {
          "output_type": "stream",
          "name": "stdout",
          "text": [
            "36.626918147259325\n",
            "17.137929012630156\n",
            "7.527639775511365\n",
            "4.068503885922415\n",
            "1.7146511098609394\n",
            "0.69079234894436\n",
            "0.6676804163062938\n",
            "0.4065283193520711\n",
            "0.3048975645589181\n",
            "0.22648403077953974\n",
            "0.15251241565204468\n",
            "0.09428473851068768\n",
            "0.07994429087947251\n",
            "0.05575923584294192\n",
            "0.04788588014226767\n",
            "0.03732961291446063\n",
            "0.027202367478652963\n",
            "0.010242494803432365\n",
            "0.00879384660368895\n",
            "0.006155119035648898\n",
            "0.003174682971797324\n",
            "0.0024914799797837992\n",
            "0.002387707269957095\n",
            "0.001080747918670514\n",
            "0.0009876577356635013\n",
            "0.0007711388401955466\n",
            "0.0005124728256733671\n",
            "0.0003694516988689019\n",
            "0.00034649691033182995\n",
            "0.000218842476067356\n",
            "0.00021282436324071625\n",
            "0.00020787751961785108\n",
            "0.00012515220574224272\n",
            "0.0001079565314549747\n",
            "7.142248039747761e-05\n",
            "7.076625896421866e-05\n",
            "6.629609895745431e-05\n",
            "4.824634072747035e-05\n",
            "4.094473681501508e-05\n",
            "2.5376076429277253e-05\n",
            "2.4967347589333987e-05\n",
            "2.4686805764044626e-05\n",
            "1.8408939854114006e-05\n",
            "1.6249329065704894e-05\n",
            "1.529281756299798e-05\n",
            "1.4928753274578654e-05\n",
            "9.756154661529243e-06\n",
            "7.01557990089316e-06\n",
            "6.956474892379946e-06\n",
            "6.694024924298852e-06\n",
            "5.610252920192118e-06\n",
            "5.3067303518318135e-06\n",
            "5.2614421638709674e-06\n",
            "4.8409127923469704e-06\n",
            "4.511927436716599e-06\n",
            "4.405835864404551e-06\n",
            "4.277105097144962e-06\n",
            "4.1848088406036076e-06\n",
            "4.162554933309038e-06\n",
            "4.041528072861532e-06\n",
            "4.006329060253738e-06\n",
            "3.957372212034308e-06\n",
            "3.927944707690195e-06\n",
            "3.796805388473904e-06\n",
            "3.7886717052779827e-06\n",
            "3.7826253535891016e-06\n",
            "3.68470190449096e-06\n",
            "3.6206531696668184e-06\n",
            "3.6175689344803673e-06\n",
            "3.4688913655219212e-06\n",
            "3.4230414578281767e-06\n",
            "3.194207534579193e-06\n",
            "3.1432643709614745e-06\n",
            "2.7175914895901164e-06\n",
            "2.414015001375013e-06\n",
            "2.3835509815062024e-06\n",
            "2.3367780295932806e-06\n",
            "2.277009349697353e-06\n",
            "2.234151606055686e-06\n",
            "2.1454072675492933e-06\n",
            "2.0890895312758145e-06\n",
            "2.0828040083755608e-06\n",
            "1.7208207453108792e-06\n",
            "1.5752852926367824e-06\n",
            "1.5692963477357662e-06\n",
            "1.4949921995082637e-06\n",
            "1.4390354455199785e-06\n",
            "1.3565708596606869e-06\n",
            "1.294744382471162e-06\n",
            "1.2508171060405773e-06\n",
            "1.1321059837383147e-06\n",
            "1.0419971356556956e-06\n",
            "1.0340737360154293e-06\n",
            "9.557511028000492e-07\n"
          ]
        }
      ]
    },
    {
      "cell_type": "code",
      "source": [
        "len(pop)"
      ],
      "metadata": {
        "id": "gd_8RhMeJ1pQ",
        "colab": {
          "base_uri": "https://localhost:8080/"
        },
        "collapsed": true,
        "outputId": "3bf40018-a1cf-4419-bf83-b5df63ae74ba"
      },
      "execution_count": null,
      "outputs": [
        {
          "output_type": "execute_result",
          "data": {
            "text/plain": [
              "1000"
            ]
          },
          "metadata": {},
          "execution_count": 56
        }
      ]
    },
    {
      "cell_type": "code",
      "source": [
        "best"
      ],
      "metadata": {
        "colab": {
          "base_uri": "https://localhost:8080/"
        },
        "id": "L85OXzRMLHvx",
        "outputId": "c71909fa-79fc-455e-e09c-6c31f33ffea4"
      },
      "execution_count": null,
      "outputs": [
        {
          "output_type": "execute_result",
          "data": {
            "text/plain": [
              "<__main__.individual at 0x78f0bce39ad0>"
            ]
          },
          "metadata": {},
          "execution_count": 66
        }
      ]
    },
    {
      "cell_type": "code",
      "source": [
        "best_cost"
      ],
      "metadata": {
        "colab": {
          "base_uri": "https://localhost:8080/"
        },
        "id": "mi4ZzcTtLI2g",
        "outputId": "24a7e99d-8039-4315-f702-96a6a884be8b"
      },
      "execution_count": null,
      "outputs": [
        {
          "output_type": "execute_result",
          "data": {
            "text/plain": [
              "9.557511028000492e-07"
            ]
          },
          "metadata": {},
          "execution_count": 69
        }
      ]
    },
    {
      "cell_type": "code",
      "source": [
        "best.chromosome"
      ],
      "metadata": {
        "id": "VM1OKbFWL6bx",
        "colab": {
          "base_uri": "https://localhost:8080/"
        },
        "outputId": "b8bc662d-3455-474f-c5e6-406e8bfd8eb1"
      },
      "execution_count": null,
      "outputs": [
        {
          "output_type": "execute_result",
          "data": {
            "text/plain": [
              "array([ 0.49859366, -0.10363326,  2.15567483, -2.92828628,  1.04205806,\n",
              "       -2.23890949, -1.25595665, -1.77976527])"
            ]
          },
          "metadata": {},
          "execution_count": 50
        }
      ]
    },
    {
      "cell_type": "code",
      "source": [
        "i1.chromosome"
      ],
      "metadata": {
        "colab": {
          "base_uri": "https://localhost:8080/"
        },
        "id": "OkqBH1weNk8Z",
        "outputId": "c293e72f-9d4e-43e8-d544-142370a48c23"
      },
      "execution_count": null,
      "outputs": [
        {
          "output_type": "execute_result",
          "data": {
            "text/plain": [
              "array([ 8.27692842, -2.61986837,  3.64513385, -4.51095815, -3.66581572,\n",
              "       -4.51176251,  9.1657371 ,  4.90834649])"
            ]
          },
          "metadata": {},
          "execution_count": 73
        }
      ]
    },
    {
      "cell_type": "code",
      "source": [
        "c1, c2 = i1.crossover(i2, 0.5)"
      ],
      "metadata": {
        "id": "5qE9VhKRSbua"
      },
      "execution_count": null,
      "outputs": []
    },
    {
      "cell_type": "code",
      "source": [],
      "metadata": {
        "id": "7eXzECpEUPNL"
      },
      "execution_count": null,
      "outputs": []
    }
  ]
}