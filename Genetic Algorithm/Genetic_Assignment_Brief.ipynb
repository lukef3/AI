{
 "nbformat": 4,
 "nbformat_minor": 0,
 "metadata": {
  "colab": {
   "provenance": []
  },
  "kernelspec": {
   "name": "python3",
   "display_name": "Python 3 (ipykernel)",
   "language": "python"
  },
  "language_info": {
   "name": "python"
  }
 },
 "cells": [
  {
   "cell_type": "markdown",
   "source": [
    "# Genetic Algorithm Assignment\n",
    "30% of the overall grade for this module\n",
    "\n",
    "Marks indciated in sections below are based on percentage of marks allocated for this module\n",
    "\n",
    "In this assignment you must choose a problem, and attempt to use the Genetic Alogrithm that we developed in class to solve this problem.\n",
    "\n",
    "\n",
    "\n"
   ],
   "metadata": {
    "id": "UuU23he_msf6"
   }
  },
  {
   "cell_type": "markdown",
   "source": [
    "## The Problem         **(~30%)**\n",
    "\n",
    "*   Description of the problem\n",
    "\n",
    "\n",
    "\n"
   ],
   "metadata": {
    "id": "xOpdeYD9oLWi"
   }
  },
  {
   "cell_type": "markdown",
   "source": [
    "---\n",
    "\n",
    "(Double click then ...)  Type Here...\n",
    "\n",
    "---\n",
    "\n"
   ],
   "metadata": {
    "id": "4uQ4i7aopwP0"
   }
  },
  {
   "cell_type": "markdown",
   "source": [
    "*   Discussion of the suitablity of Genetic Algorithms\n"
   ],
   "metadata": {
    "id": "rWvzNi3uqCKy"
   }
  },
  {
   "cell_type": "markdown",
   "source": [
    "---\n",
    "\n",
    "(Double click then ...)  Type Here...\n",
    "\n",
    "---\n",
    "\n"
   ],
   "metadata": {
    "id": "aMzEaqZAqmYT"
   }
  },
  {
   "cell_type": "markdown",
   "source": [
    "*   Complexity of the problem  (Overall marks allocated based on ..)"
   ],
   "metadata": {
    "id": "1c4zr525qHk0"
   }
  },
  {
   "cell_type": "markdown",
   "source": [
    "# The problem and the cost function   **(~20%)**"
   ],
   "metadata": {
    "id": "0LgfBTtdq11F"
   }
  },
  {
   "cell_type": "code",
   "source": [
    "#  insert code in ths cell"
   ],
   "metadata": {
    "id": "rwIdSMNqrPS5",
    "ExecuteTime": {
     "end_time": "2025-03-02T22:39:47.230214Z",
     "start_time": "2025-03-02T22:39:47.227723Z"
    }
   },
   "outputs": [],
   "execution_count": 15
  },
  {
   "cell_type": "markdown",
   "source": [
    "# The Individual **(~30%)**\n",
    "\n",
    "\n",
    "*   Chromosone\n",
    "*   Crossover\n",
    "*   Mutation\n",
    "\n"
   ],
   "metadata": {
    "id": "wBQQjO4brWFA"
   }
  },
  {
   "cell_type": "markdown",
   "source": [
    "## Discussion and justification on the approaches taken for the above"
   ],
   "metadata": {
    "id": "-Yr5xlW3rx21"
   }
  },
  {
   "cell_type": "markdown",
   "source": [
    "---\n",
    "\n",
    "(Double click then ...)  Type Here...\n",
    "\n",
    "---\n",
    "\n"
   ],
   "metadata": {
    "id": "-5eIa-LKsREQ"
   }
  },
  {
   "cell_type": "code",
   "metadata": {
    "id": "Hqtg_3MimjYL",
    "ExecuteTime": {
     "end_time": "2025-03-02T22:39:47.244354Z",
     "start_time": "2025-03-02T22:39:47.241354Z"
    }
   },
   "source": [
    "# Code for individual class in here"
   ],
   "outputs": [],
   "execution_count": 16
  },
  {
   "cell_type": "markdown",
   "source": [
    "## Running the algorithm  **(~10%)**\n",
    "\n",
    "*   Parameter choices\n",
    "*   Modifications (if any) to run_genetic\n",
    "*   Rationale for the above\n",
    "\n"
   ],
   "metadata": {
    "id": "59WmNNhiscZ9"
   }
  },
  {
   "cell_type": "markdown",
   "source": [
    "---\n",
    "\n",
    "(Double click then ...)  Type Here...\n",
    "\n",
    "---\n",
    "\n"
   ],
   "metadata": {
    "id": "n8BK_jFwub_j"
   }
  },
  {
   "cell_type": "code",
   "source": [
    "#  Parameter class here"
   ],
   "metadata": {
    "id": "qYE-UMBos_nR",
    "ExecuteTime": {
     "end_time": "2025-03-02T22:39:47.250687Z",
     "start_time": "2025-03-02T22:39:47.248384Z"
    }
   },
   "outputs": [],
   "execution_count": 17
  },
  {
   "cell_type": "code",
   "source": [
    "# Run Genetic method here"
   ],
   "metadata": {
    "id": "uMURavCWtEan",
    "ExecuteTime": {
     "end_time": "2025-03-02T22:39:47.256996Z",
     "start_time": "2025-03-02T22:39:47.254786Z"
    }
   },
   "outputs": [],
   "execution_count": 18
  },
  {
   "cell_type": "code",
   "source": [
    "#  Running of the algorithm with outputs here"
   ],
   "metadata": {
    "id": "lzt2-_8HtJtr",
    "ExecuteTime": {
     "end_time": "2025-03-02T22:39:47.262271Z",
     "start_time": "2025-03-02T22:39:47.259822Z"
    }
   },
   "outputs": [],
   "execution_count": 19
  },
  {
   "cell_type": "code",
   "source": [
    "#  If changes to params or reruns of iterations dont overwrite, create more cells and copy code down to show evolution of final solution"
   ],
   "metadata": {
    "id": "KUrAxEdDtTmf",
    "ExecuteTime": {
     "end_time": "2025-03-02T22:39:47.268668Z",
     "start_time": "2025-03-02T22:39:47.266274Z"
    }
   },
   "outputs": [],
   "execution_count": 20
  },
  {
   "cell_type": "markdown",
   "source": [
    "## Results and conclusions    **(~10%)**"
   ],
   "metadata": {
    "id": "Hupr4W2_tmZA"
   }
  },
  {
   "cell_type": "markdown",
   "source": [
    "---\n",
    "\n",
    "(Double click then ...)  Type Here...\n",
    "\n",
    "---\n",
    "\n"
   ],
   "metadata": {
    "id": "p0Yqo3GeuVtn"
   }
  }
 ]
}
